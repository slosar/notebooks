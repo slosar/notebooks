{
 "cells": [
  {
   "cell_type": "code",
   "execution_count": 1,
   "metadata": {},
   "outputs": [],
   "source": [
    "import numpy as np\n",
    "N=32\n",
    "xa = np.outer(np.ones(N),np.linspace(-1,1,N))\n",
    "ya = xa.T"
   ]
  },
  {
   "cell_type": "code",
   "execution_count": 2,
   "metadata": {},
   "outputs": [],
   "source": [
    "def M(T,e1,e2):\n",
    "    return T/2*np.array([[1+e1,e2],[e2,1-e1]])\n",
    "\n",
    "def frho(x0,y0, M):\n",
    "    Mi = np.linalg.inv(M)\n",
    "    dx = xa-x0\n",
    "    dy = ya-y0\n",
    "    rho = dx*Mi[0,0]*dx+dy*Mi[1,1]*dy+2*dx*Mi[0,1]*dy\n",
    "    return np.exp(-rho)\n"
   ]
  },
  {
   "cell_type": "code",
   "execution_count": 3,
   "metadata": {},
   "outputs": [],
   "source": [
    "def draw (A,x0,y0,T,e1,e2):\n",
    "    return A*frho(x0,y0,M(T,e1,e2))\n",
    "\n",
    "def adaptive_moments(img, iterations = 10):\n",
    "    mx = 0.0\n",
    "    my = 0.0\n",
    "    M = np.array([[1.0,0],[0,1.0]])\n",
    "    for i in range (iterations):\n",
    "        f = frho(mx,my,M)\n",
    "        fp = -f/2\n",
    "        mx = (img*xa*fp).sum()/(img*fp).sum()\n",
    "        my = (img*ya*fp).sum()/(img*fp).sum()\n",
    "        A = (img*f).sum()/(f*f).sum()\n",
    "        beta = 4\n",
    "        N = (img*f).sum()\n",
    "        dx = xa-mx\n",
    "        dy = ya-my\n",
    "        Mxx = beta*(img*dx*dx*f).sum()/N\n",
    "        Myy = beta*(img*dy*dy*f).sum()/N\n",
    "        Mxy = beta*(img*dx*dy*f).sum()/N\n",
    "        M = np.array([[Mxx,Mxy],[Mxy,Myy]])\n",
    "        print (mx,my, Mxx,Myy,Mxy)\n"
   ]
  },
  {
   "cell_type": "code",
   "execution_count": 4,
   "metadata": {},
   "outputs": [
    {
     "name": "stdout",
     "output_type": "stream",
     "text": [
      "Mt =  [[0.15 0.02]\n",
      " [0.02 0.05]]\n"
     ]
    },
    {
     "data": {
      "text/plain": [
       "<matplotlib.image.AxesImage at 0x7f7854746da0>"
      ]
     },
     "execution_count": 4,
     "metadata": {},
     "output_type": "execute_result"
    },
    {
     "data": {
      "image/png": "[encoded data removed]",
      "text/plain": [
       "<Figure size 640x480 with 1 Axes>"
      ]
     },
     "metadata": {},
     "output_type": "display_data"
    }
   ],
   "source": [
    "A=10.0\n",
    "x0 = 0.1\n",
    "y0 = 0.05\n",
    "T = 0.2\n",
    "e1 = 0.5\n",
    "e2 =0.2\n",
    "noise_level = 0.5\n",
    "i = draw(A,x0,y0,T,e1,e2)+np.random.normal(0,noise_level,N*N).reshape(N,N)\n",
    "print (\"Mt = \",M(T,e1,e2))\n",
    "plt.imshow(i)"
   ]
  },
  {
   "cell_type": "code",
   "execution_count": 5,
   "metadata": {},
   "outputs": [
    {
     "name": "stdout",
     "output_type": "stream",
     "text": [
      "0.10212398073201573 0.027672075967520117 0.07342849166717103 0.034016913510487384 0.024275338259426297\n"
     ]
    }
   ],
   "source": [
    "#naive moments, biased\n",
    "x0 = (xa*i).sum()/(i).sum()\n",
    "y0 = (ya*i).sum()/(i).sum()\n",
    "dx = xa-x0\n",
    "dy = ya-y0\n",
    "\n",
    "Mxx_naive = (i*dx*dx).sum()/(i).sum()\n",
    "Myy_naive = (i*dy*dy).sum()/(i).sum()\n",
    "Mxy_naive = (i*dx*dy).sum()/(i).sum()\n",
    "\n",
    "print (x0,y0,Mxx_naive,Myy_naive,Mxy_naive)\n"
   ]
  },
  {
   "cell_type": "code",
   "execution_count": 6,
   "metadata": {},
   "outputs": [
    {
     "name": "stdout",
     "output_type": "stream",
     "text": [
      "0.09039974475217283 0.03885113705109633 0.2530373905494074 0.11126496251221869 0.05443432479955449\n",
      "0.09935092677893377 0.04744178848897957 0.18883157469753895 0.06837371691262986 0.03224558708331271\n",
      "0.10187556386948181 0.049196993501536466 0.16874483868498658 0.057416821455137323 0.026997942476727682\n",
      "0.10286136769455805 0.04972829619667823 0.1605531840279696 0.053287853007217036 0.025088829243168038\n",
      "0.1032900763100054 0.049902210343703776 0.1568787811153811 0.051497055469719416 0.024286075994635236\n",
      "0.10348487137837768 0.049955138803787026 0.15516140489436592 0.05067255022447811 0.023928304270127883\n",
      "0.10357512316373449 0.049966771440848746 0.15434332958429473 0.05028238780034929 0.02376492053111789\n",
      "0.1036173249490657 0.04996565586796136 0.15395008941842964 0.050095320374531904 0.02368959906006016\n",
      "0.10363715208305958 0.04996176576562773 0.15376022364368733 0.05000504331325386 0.023654791451493663\n",
      "0.1036464936043152 0.049958201352470366 0.15366834739933366 0.049961329094105146 0.02363872522417224\n"
     ]
    }
   ],
   "source": [
    "adaptive_moments(i)"
   ]
  },
  {
   "cell_type": "code",
   "execution_count": null,
   "metadata": {},
   "outputs": [],
   "source": []
  }
 ],
 "metadata": {
  "kernelspec": {
   "display_name": "Python 3 (ipykernel)",
   "language": "python",
   "name": "python3"
  },
  "language_info": {
   "codemirror_mode": {
    "name": "ipython",
    "version": 3
   },
   "file_extension": ".py",
   "mimetype": "text/x-python",
   "name": "python",
   "nbconvert_exporter": "python",
   "pygments_lexer": "ipython3",
   "version": "3.10.1"
  },
  "orig_nbformat": 4
 },
 "nbformat": 4,
 "nbformat_minor": 2
}
