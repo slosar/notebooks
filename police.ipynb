{
 "cells": [
  {
   "cell_type": "code",
   "execution_count": 11,
   "metadata": {},
   "outputs": [],
   "source": [
    "import matplotlib.pyplot as plt\n",
    "import numpy as np\n",
    "from matplotlib.collections import PatchCollection\n",
    "from matplotlib.patches import Rectangle\n",
    "import matplotlib as mpl\n",
    "mpl.rcParams['figure.facecolor'] = 'black'\n",
    "\n"
   ]
  },
  {
   "cell_type": "code",
   "execution_count": 12,
   "metadata": {},
   "outputs": [
    {
     "data": {
      "text/plain": [
       "(249.46542846655126, 249.46975806451613)"
      ]
     },
     "execution_count": 12,
     "metadata": {},
     "output_type": "execute_result"
    }
   ],
   "source": [
    "8*2.54, 12*2.54\n",
    "np.sqrt((251-3)**2+27**2), 248+27**2/248/2\n"
   ]
  },
  {
   "cell_type": "code",
   "execution_count": 13,
   "metadata": {},
   "outputs": [
    {
     "name": "stdout",
     "output_type": "stream",
     "text": [
      "296.5 245.5\n"
     ]
    }
   ],
   "source": [
    "df,vf = 302-3, 251-3\n",
    "pv,ph = 2.5, 2.5\n",
    "d = df - ph\n",
    "v= vf - pv\n",
    "print (d,v)"
   ]
  },
  {
   "cell_type": "code",
   "execution_count": 14,
   "metadata": {},
   "outputs": [
    {
     "name": "stdout",
     "output_type": "stream",
     "text": [
      "34.0 23.0\n",
      "------- horizontala\n",
      "  0.0    2.5\n",
      " 82.6   85.1\n",
      "151.5  154.0\n",
      "208.8  211.3\n",
      "256.7  259.2\n",
      "296.5  299.0\n",
      "                  80.1\n",
      "                  66.3\n",
      "                  54.9\n",
      "                  45.3\n",
      "                  37.3\n",
      "-------- vertikala\n",
      "  0.0    2.5\n",
      " 36.5   39.0\n",
      " 71.1   73.6\n",
      "104.0  106.5\n",
      "135.3  137.8\n",
      "165.0  167.5\n",
      "193.2  195.7\n",
      "220.0  222.5\n",
      "245.5  248.0\n",
      "                  34.0\n",
      "                  32.1\n",
      "                  30.4\n",
      "                  28.8\n",
      "                  27.2\n",
      "                  25.7\n",
      "                  24.3\n",
      "                  23.0\n"
     ]
    },
    {
     "data": {
      "image/png": "[encoded data removed]",
      "text/plain": [
       "<Figure size 1200x1200 with 1 Axes>"
      ]
     },
     "metadata": {},
     "output_type": "display_data"
    }
   ],
   "source": [
    "fvis = 0.95\n",
    "Nv = 7\n",
    "fsir = 1.2\n",
    "Ns = 4\n",
    "\n",
    "quad = False\n",
    "\n",
    "\n",
    "f,ax=plt.subplots(figsize=(12,12))\n",
    "ax.set_aspect(1.0)\n",
    "ax.get_xaxis().set_visible(False)\n",
    "ax.get_yaxis().set_visible(False)\n",
    "plt.plot([0,d],[0,0],'k-',lw=0.1)\n",
    "plt.plot([0,d],[v,v],'k-',lw=0.1)\n",
    "plt.plot([0,0],[0,v],'k-',lw=0.1)\n",
    "plt.plot([d,d],[0,v],'k-',lw=0.1)\n",
    "\n",
    "dv = [fvis**i for i in range(Nv+1)]\n",
    "vp=np.hstack((0,np.cumsum(dv)))\n",
    "vp*=v/vp[-1]\n",
    "#vp += pv/2\n",
    "boxes = [Rectangle((0,y), df, pv ) for y in vp]\n",
    "ax.add_collection(PatchCollection(boxes, facecolor='#AAAAAA'))\n",
    "\n",
    "if quad:\n",
    "    ds = [1-0.33*np.abs(x) for x in range(-2,3)]\n",
    "else:\n",
    "    ds = [fsir**i for i in range(Ns+1)][::-1]\n",
    "sp=np.hstack((0,np.cumsum(ds)))\n",
    "sp*=d/sp[-1]\n",
    "#sp += ph/2\n",
    "\n",
    "boxes = [Rectangle((x,0), ph, vf ) for x in sp]\n",
    "ax.add_collection(PatchCollection(boxes, facecolor='#AAAAAA'))\n",
    "\n",
    "\n",
    "print (f\"{vp[1]-vp[0]-pv:0.1f} {vp[-1]-vp[-2]-pv:0.1f}\")\n",
    "print ('------- horizontala')\n",
    "for x in sp:\n",
    "        print (f\"{x:5.1f}  {x+ph:5.1f}\")\n",
    "for x in sp[1:]-sp[:-1]-ph:\n",
    "        print (f\"                 {x:5.1f}\")\n",
    "print ('-------- vertikala')\n",
    "for y in vp:\n",
    "    print (f\"{y:5.1f}  {y+pv:5.1f}\")\n",
    "for y in vp[1:]-vp[:-1]-pv:\n",
    "        print (f\"                 {y:5.1f}\")\n",
    "\n",
    "    \n",
    "plt.axis(\"off\")\n",
    "None"
   ]
  },
  {
   "cell_type": "code",
   "execution_count": 15,
   "metadata": {},
   "outputs": [
    {
     "data": {
      "text/plain": [
       "(20.32, 30.988)"
      ]
     },
     "execution_count": 15,
     "metadata": {},
     "output_type": "execute_result"
    }
   ],
   "source": [
    "8*2.54, 12.2*2.54"
   ]
  },
  {
   "cell_type": "code",
   "execution_count": 10,
   "metadata": {},
   "outputs": [
    {
     "data": {
      "text/plain": [
       "245.5"
      ]
     },
     "execution_count": 10,
     "metadata": {},
     "output_type": "execute_result"
    }
   ],
   "source": [
    "vp[-1]"
   ]
  },
  {
   "cell_type": "code",
   "execution_count": null,
   "metadata": {},
   "outputs": [],
   "source": []
  }
 ],
 "metadata": {
  "kernelspec": {
   "display_name": "Python 3 (ipykernel)",
   "language": "python",
   "name": "python3"
  },
  "language_info": {
   "codemirror_mode": {
    "name": "ipython",
    "version": 3
   },
   "file_extension": ".py",
   "mimetype": "text/x-python",
   "name": "python",
   "nbconvert_exporter": "python",
   "pygments_lexer": "ipython3",
   "version": "3.9.13"
  }
 },
 "nbformat": 4,
 "nbformat_minor": 4
}
