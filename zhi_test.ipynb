{
 "cells": [
  {
   "cell_type": "code",
   "execution_count": 1,
   "metadata": {},
   "outputs": [],
   "source": [
    "import numpy as np\n",
    "import matplotlib.pyplot as plt"
   ]
  },
  {
   "cell_type": "code",
   "execution_count": 2,
   "metadata": {},
   "outputs": [],
   "source": [
    "Ncyc = 10000\n",
    "Nev = 3000\n",
    "V_true = 0.3\n",
    "\n",
    "prob_true = lambda x: 1+V_true*np.cos(2*np.pi*x)"
   ]
  },
  {
   "cell_type": "code",
   "execution_count": 3,
   "metadata": {},
   "outputs": [
    {
     "data": {
      "text/plain": [
       "[<matplotlib.lines.Line2D at 0x7f1ca86baaf0>]"
      ]
     },
     "execution_count": 3,
     "metadata": {},
     "output_type": "execute_result"
    },
    {
     "data": {
      "image/png": "[encoded data removed]",
      "text/plain": [
       "<Figure size 432x288 with 1 Axes>"
      ]
     },
     "metadata": {
      "needs_background": "light"
     },
     "output_type": "display_data"
    }
   ],
   "source": [
    "xar=np.linspace(0,1,100)\n",
    "plt.plot(xar,prob_true(xar))"
   ]
  },
  {
   "cell_type": "code",
   "execution_count": 14,
   "metadata": {},
   "outputs": [],
   "source": [
    "# First generate data by rejection sampling\n",
    "events = []\n",
    "prob_max = 1+V_true\n",
    "while len(events)<Nev:\n",
    "    while True:\n",
    "        x=np.random.uniform(0,1)\n",
    "        if prob_true(x)>=np.random.uniform(0,prob_max):\n",
    "            events.append(x+np.random.randint(0,+Ncyc))\n",
    "            break\n",
    "events=np.array(events)"
   ]
  },
  {
   "cell_type": "code",
   "execution_count": 15,
   "metadata": {},
   "outputs": [
    {
     "data": {
      "image/png": "[encoded data removed]",
      "text/plain": [
       "<Figure size 432x288 with 1 Axes>"
      ]
     },
     "metadata": {
      "needs_background": "light"
     },
     "output_type": "display_data"
    }
   ],
   "source": [
    "_=plt.hist(events,bins=30)"
   ]
  },
  {
   "cell_type": "code",
   "execution_count": 16,
   "metadata": {},
   "outputs": [
    {
     "data": {
      "text/plain": [
       "[<matplotlib.lines.Line2D at 0x7f1c9a777f10>]"
      ]
     },
     "execution_count": 16,
     "metadata": {},
     "output_type": "execute_result"
    },
    {
     "data": {
      "image/png": "[encoded data removed]",
      "text/plain": [
       "<Figure size 432x288 with 1 Axes>"
      ]
     },
     "metadata": {
      "needs_background": "light"
     },
     "output_type": "display_data"
    }
   ],
   "source": [
    "plt.hist(events%1,bins=30)\n",
    "plt.plot(xar,prob_true(xar)*Nev/30)"
   ]
  },
  {
   "cell_type": "code",
   "execution_count": 17,
   "metadata": {},
   "outputs": [],
   "source": [
    "import os\n",
    "if os.path.isdir('chains'):\n",
    "    os.system('rm -rf chains')\n",
    "os.mkdir('chains')\n",
    "from AprilMCMC.Parameter import Parameter\n",
    "from AprilMCMC.BaseLikelihood import BaseLikelihood\n",
    "from AprilMCMC.MCMCAnalyzer import  MCMCAnalyzer\n",
    "\n",
    "class ZhiLike(BaseLikelihood):\n",
    "    \n",
    "    def __init__(self,events):\n",
    "        BaseLikelihood.__init__(self,\"astrometry\")\n",
    "        self.phi=0\n",
    "        self.dfreq=0.00\n",
    "        self.V=0.3\n",
    "        self.events=events\n",
    "\n",
    "    def freeParameters(self):\n",
    "        return [Parameter(\"phi\",0.0, err=1.0, bounds=(-np.pi,+np.pi)),\n",
    "                Parameter(\"dfreq\",0.0, err=0.05, bounds=(-0.3,0.3)),\n",
    "                Parameter(\"V\",0.3, err=0.1,bounds=(0,2.0))]\n",
    "\n",
    "    def updateParams(self,params):\n",
    "        for p in params:\n",
    "            if p.name==\"phi\":\n",
    "                self.phi=p.value\n",
    "            elif p.name==\"dfreq\":\n",
    "                self.dfreq=p.value\n",
    "            elif p.name==\"V\":\n",
    "                self.V=p.value\n",
    "\n",
    "                \n",
    "    def loglike_wprior(self):\n",
    "        loglike = np.sum(np.log(1+self.V*np.cos((1+self.dfreq)*2*np.pi*self.events+self.phi)))\n",
    "        return loglike"
   ]
  },
  {
   "cell_type": "code",
   "execution_count": 18,
   "metadata": {},
   "outputs": [
    {
     "name": "stdout",
     "output_type": "stream",
     "text": [
      "Bounds: [-3.14159265 -0.3         0.        ] [3.14159265 0.3        2.        ]\n",
      "Starting chain...\n",
      "Still burning in, weight too large\n",
      "1704\n",
      "Still burning in, weight too large\n",
      "2157\n",
      "Still burning in, weight too large\n",
      "1874\n",
      "Still burning in, weight too large\n",
      "889\n",
      "Still burning in, weight too large\n",
      "135\n",
      "Still burning in, weight too large\n",
      "164\n",
      "Still burning in, weight too large\n",
      "555\n",
      "Still burning in, weight too large\n",
      "126\n",
      "Still burning in, weight too large\n",
      "318\n",
      "Still burning in, weight too large\n",
      "225\n",
      "Still burning in, weight too large\n",
      "1282\n",
      "Still burning in, weight too large\n",
      "1604\n",
      "Still burning in, weight too large\n",
      "400\n",
      "Still burning in, weight too large\n",
      "103\n",
      "Still burning in, weight too large\n",
      "77\n",
      "Still burning in, weight too large\n",
      "163\n",
      "Still burning in, weight too large\n",
      "772\n",
      "Still burning in, weight too large\n",
      "508\n",
      "Still burning in, weight too large\n",
      "37\n",
      "Still burning in, weight too large\n",
      "141\n",
      "Still burning in, weight too large\n",
      "95\n",
      "Still burning in, weight too large\n",
      "86\n",
      "Still burning in, weight too large\n",
      "161\n",
      "Still burning in, weight too large\n",
      "64\n",
      "Still burning in, weight too large\n",
      "118\n",
      "Still burning in, weight too large\n",
      "112\n",
      "Still burning in, weight too large\n",
      "48\n",
      "Still burning in, weight too large\n",
      "131\n",
      "Still burning in, weight too large\n",
      "98\n",
      "Still burning in, weight too large\n",
      "55\n",
      "Still burning in, weight too large\n",
      "128\n",
      "Still burning in, weight too large\n",
      "46\n",
      "Still burning in, weight too large\n",
      "33\n",
      "Still burning in, weight too large\n",
      "84\n",
      "Still burning in, weight too large\n",
      "97\n",
      "Still burning in, weight too large\n",
      "137\n",
      "Still burning in, weight too large\n",
      "37\n",
      "Still burning in, weight too large\n",
      "68\n",
      "Still burning in, weight too large\n",
      "73\n",
      "Still burning in, weight too large\n",
      "50\n",
      "Still burning in, weight too large\n",
      "70\n",
      "Still burning in, weight too large\n",
      "44\n",
      "Still burning in, weight too large\n",
      "53\n",
      "Still burning in, weight too large\n",
      "34\n",
      "Still burning in, weight too large\n",
      "37\n",
      "Still burning in, weight too large\n",
      "38\n",
      "Still burning in, weight too large\n",
      "47\n",
      "Still burning in, weight too large\n",
      "40\n",
      "Still burning in, weight too large\n",
      "42\n",
      "Still burning in, weight too large\n",
      "31\n",
      "Still burning in, weight too large\n",
      "33\n",
      "Still burning in, weight too large\n",
      "38\n",
      "Still burning in, weight too large\n",
      "31\n",
      "Still burning in, weight too large\n",
      "37\n",
      "Still burning in, weight too large\n",
      "34\n",
      "Still burning in, weight too large\n",
      "56\n",
      "Accepted samples 1000 13\n",
      "Still burning in, weight too large\n",
      "31\n",
      "Accepted samples 2000 1\n",
      "Accepted samples 3000 3\n",
      "Still burning in, weight too large\n",
      "48\n",
      "Accepted samples 4000 1\n",
      "Accepted samples 5000 2\n",
      "Re-initializing covariance matrix after burn-in\n",
      "[[ 6.51694071e-04 -1.92423461e-08  7.34588728e-05]\n",
      " [-1.92423461e-08  6.19669610e-12  4.59199025e-10]\n",
      " [ 7.34588728e-05  4.59199025e-10  6.63136722e-05]]\n",
      "phi 0.023763401561000434 0.02552829940592101\n",
      "dfreq 3.9769866884108144e-07 2.4893163916860513e-06\n",
      "V 0.29873659567436084 0.008143320708070948\n",
      "New maxloglike 66.76593630131345\n",
      "New maxloglike 66.7900646795751\n",
      "New maxloglike 66.80027704817073\n",
      "New maxloglike 66.89615490699772\n",
      "New maxloglike 66.95999890645317\n",
      "New maxloglike 66.98150447367908\n",
      "New maxloglike 66.98339960146726\n",
      "New maxloglike 67.01500678369666\n",
      "New maxloglike 67.06647012140687\n",
      "Accepted samples 6000 1\n",
      "Accepted samples 7000 1\n",
      "Accepted samples 8000 2\n",
      "New maxloglike 67.06705536976503\n",
      "New maxloglike 67.07081958038108\n",
      "Accepted samples 9000 1\n",
      "New maxloglike 67.07213904365986\n",
      "Accepted samples 10000 1\n",
      "Accepted samples 11000 4\n",
      "Accepted samples 12000 3\n",
      "Accepted samples 13000 1\n",
      "Accepted samples 14000 1\n",
      "Accepted samples 15000 1\n",
      "New maxloglike 67.07532803930818\n",
      "New maxloglike 67.07624752276985\n",
      "Accepted samples 16000 1\n",
      "Accepted samples 17000 1\n",
      "Accepted samples 18000 1\n",
      "Accepted samples 19000 1\n",
      "Accepted samples 20000 1\n",
      "Accepted samples 21000 1\n",
      "Accepted samples 22000 1\n",
      "Accepted samples 23000 1\n",
      "Accepted samples 24000 1\n",
      "Accepted samples 25000 1\n",
      "Accepted samples 26000 1\n",
      "Accepted samples 27000 1\n",
      "Accepted samples 28000 1\n",
      "Accepted samples 29000 1\n",
      "Accepted samples 30000 2\n"
     ]
    },
    {
     "data": {
      "text/plain": [
       "<AprilMCMC.MCMCAnalyzer.MCMCAnalyzer at 0x7f1c9a6e5cd0>"
      ]
     },
     "execution_count": 18,
     "metadata": {},
     "output_type": "execute_result"
    }
   ],
   "source": [
    "   \n",
    "L=ZhiLike(events[:3000])\n",
    "MCMCAnalyzer(L,\"chains/test\",temp=1, nsamp=30000)"
   ]
  },
  {
   "cell_type": "code",
   "execution_count": 19,
   "metadata": {},
   "outputs": [
    {
     "data": {
      "text/plain": [
       "[<matplotlib.lines.Line2D at 0x7f1c9a790a90>]"
      ]
     },
     "execution_count": 19,
     "metadata": {},
     "output_type": "execute_result"
    },
    {
     "data": {
      "image/png": "[encoded data removed]",
      "text/plain": [
       "<Figure size 432x288 with 1 Axes>"
      ]
     },
     "metadata": {
      "needs_background": "light"
     },
     "output_type": "display_data"
    }
   ],
   "source": [
    "da=np.loadtxt('chains/test.txt')\n",
    "plt.plot(da[:,0])"
   ]
  },
  {
   "cell_type": "code",
   "execution_count": 20,
   "metadata": {},
   "outputs": [
    {
     "data": {
      "text/plain": [
       "[<matplotlib.lines.Line2D at 0x7f1c99f85880>]"
      ]
     },
     "execution_count": 20,
     "metadata": {},
     "output_type": "execute_result"
    },
    {
     "data": {
      "image/png": "[encoded data removed]",
      "text/plain": [
       "<Figure size 432x288 with 1 Axes>"
      ]
     },
     "metadata": {
      "needs_background": "light"
     },
     "output_type": "display_data"
    }
   ],
   "source": [
    "plt.plot(da[:,2],da[:,3],'b.')"
   ]
  },
  {
   "cell_type": "code",
   "execution_count": 22,
   "metadata": {},
   "outputs": [
    {
     "name": "stdout",
     "output_type": "stream",
     "text": [
      "Bounds: [-3.14159265 -0.3         0.        ] [3.14159265 0.3        2.        ]\n",
      "Starting chain...\n",
      "Still burning in, weight too large\n",
      "1813\n",
      "Still burning in, weight too large\n",
      "213\n",
      "Still burning in, weight too large\n",
      "810\n",
      "Still burning in, weight too large\n",
      "410\n",
      "Still burning in, weight too large\n",
      "204\n",
      "Still burning in, weight too large\n",
      "399\n",
      "Still burning in, weight too large\n",
      "322\n",
      "Still burning in, weight too large\n",
      "228\n",
      "Still burning in, weight too large\n",
      "919\n",
      "Still burning in, weight too large\n",
      "303\n",
      "Still burning in, weight too large\n",
      "148\n",
      "Still burning in, weight too large\n",
      "553\n",
      "Still burning in, weight too large\n",
      "419\n",
      "Still burning in, weight too large\n",
      "385\n",
      "Still burning in, weight too large\n",
      "113\n",
      "Still burning in, weight too large\n",
      "59\n",
      "Still burning in, weight too large\n",
      "270\n",
      "Still burning in, weight too large\n",
      "117\n",
      "Still burning in, weight too large\n",
      "116\n",
      "Still burning in, weight too large\n",
      "33\n",
      "Still burning in, weight too large\n",
      "83\n",
      "Still burning in, weight too large\n",
      "41\n",
      "Still burning in, weight too large\n",
      "41\n",
      "Still burning in, weight too large\n",
      "42\n",
      "Still burning in, weight too large\n",
      "91\n",
      "Still burning in, weight too large\n",
      "56\n",
      "Still burning in, weight too large\n",
      "60\n",
      "Still burning in, weight too large\n",
      "79\n",
      "Still burning in, weight too large\n",
      "52\n",
      "Still burning in, weight too large\n",
      "119\n",
      "Still burning in, weight too large\n",
      "160\n",
      "Still burning in, weight too large\n",
      "41\n",
      "Still burning in, weight too large\n",
      "60\n",
      "Still burning in, weight too large\n",
      "32\n",
      "Still burning in, weight too large\n",
      "53\n",
      "Still burning in, weight too large\n",
      "65\n",
      "Still burning in, weight too large\n",
      "47\n",
      "Still burning in, weight too large\n",
      "86\n",
      "Still burning in, weight too large\n",
      "31\n",
      "Still burning in, weight too large\n",
      "51\n",
      "Still burning in, weight too large\n",
      "69\n",
      "Still burning in, weight too large\n",
      "41\n",
      "Still burning in, weight too large\n",
      "33\n",
      "Still burning in, weight too large\n",
      "57\n",
      "Still burning in, weight too large\n",
      "34\n",
      "Still burning in, weight too large\n",
      "34\n",
      "Still burning in, weight too large\n",
      "42\n",
      "Still burning in, weight too large\n",
      "38\n",
      "Still burning in, weight too large\n",
      "31\n",
      "Still burning in, weight too large\n",
      "33\n",
      "Accepted samples 1000 6\n",
      "Accepted samples 2000 7\n",
      "Still burning in, weight too large\n",
      "35\n",
      "Accepted samples 3000 4\n",
      "Still burning in, weight too large\n",
      "38\n",
      "Accepted samples 4000 4\n",
      "Accepted samples 5000 5\n",
      "Re-initializing covariance matrix after burn-in\n",
      "[[ 6.66109825e-04 -2.09852144e-08 -1.36584491e-04]\n",
      " [-2.09852144e-08  2.04678424e-11  5.80353436e-09]\n",
      " [-1.36584491e-04  5.80353436e-09  5.24752750e-05]]\n",
      "phi 0.08450284994867066 0.025809103524438024\n",
      "dfreq -9.169026005356038e-06 4.52413995901788e-06\n",
      "V 0.27105960390945827 0.007243981988435069\n",
      "New maxloglike 66.27590148093381\n",
      "New maxloglike 66.43969770788496\n",
      "New maxloglike 66.52872078717692\n",
      "New maxloglike 66.53503511099666\n",
      "New maxloglike 66.56361855500529\n",
      "New maxloglike 66.96226712127918\n",
      "New maxloglike 66.97903490376994\n",
      "New maxloglike 67.03663226769588\n",
      "New maxloglike 67.06186335492916\n",
      "New maxloglike 67.07191296119082\n",
      "Accepted samples 6000 2\n",
      "Accepted samples 7000 1\n",
      "Accepted samples 8000 1\n",
      "Accepted samples 9000 1\n",
      "Accepted samples 10000 2\n",
      "Accepted samples 11000 1\n",
      "New maxloglike 67.07442726787787\n",
      "New maxloglike 67.07625826135157\n",
      "Accepted samples 12000 1\n",
      "Accepted samples 13000 1\n",
      "Accepted samples 14000 1\n",
      "Accepted samples 15000 4\n",
      "Accepted samples 16000 2\n",
      "Accepted samples 17000 1\n",
      "Accepted samples 18000 2\n",
      "Accepted samples 19000 2\n",
      "Accepted samples 20000 1\n",
      "Accepted samples 21000 1\n",
      "Accepted samples 22000 1\n",
      "Accepted samples 23000 1\n",
      "Accepted samples 24000 1\n",
      "Accepted samples 25000 2\n",
      "Accepted samples 26000 1\n",
      "Accepted samples 27000 1\n",
      "Accepted samples 28000 1\n",
      "Accepted samples 29000 1\n",
      "Accepted samples 30000 2\n"
     ]
    },
    {
     "data": {
      "text/plain": [
       "<AprilMCMC.MCMCAnalyzer.MCMCAnalyzer at 0x7f1c99f21160>"
      ]
     },
     "execution_count": 22,
     "metadata": {},
     "output_type": "execute_result"
    }
   ],
   "source": [
    "L=ZhiLike(events[:3000]-Ncyc//2)\n",
    "MCMCAnalyzer(L,\"chains/test_sym\",temp=1, nsamp=30000)"
   ]
  },
  {
   "cell_type": "code",
   "execution_count": 25,
   "metadata": {},
   "outputs": [
    {
     "data": {
      "text/plain": [
       "[<matplotlib.lines.Line2D at 0x7f1c9b8f8e80>]"
      ]
     },
     "execution_count": 25,
     "metadata": {},
     "output_type": "execute_result"
    },
    {
     "data": {
      "image/png": "[encoded data removed]",
      "text/plain": [
       "<Figure size 432x288 with 1 Axes>"
      ]
     },
     "metadata": {
      "needs_background": "light"
     },
     "output_type": "display_data"
    }
   ],
   "source": [
    "da=np.loadtxt('chains/test_sym.txt')\n",
    "plt.plot(da[:,2],da[:,3],'b.')\n"
   ]
  },
  {
   "cell_type": "code",
   "execution_count": 26,
   "metadata": {},
   "outputs": [
    {
     "data": {
      "text/plain": [
       "(array([14.,  9., 12., 11.,  8., 13.,  9.,  8.,  9.,  8., 10.,  6.,  9.,\n",
       "         9.,  5.,  5., 10., 14., 12.,  6., 12., 11., 10.,  8., 12.,  9.,\n",
       "        11., 12., 12., 16.]),\n",
       " array([0.00523354, 0.03838346, 0.07153338, 0.1046833 , 0.13783322,\n",
       "        0.17098315, 0.20413307, 0.23728299, 0.27043291, 0.30358283,\n",
       "        0.33673275, 0.36988268, 0.4030326 , 0.43618252, 0.46933244,\n",
       "        0.50248236, 0.53563228, 0.56878221, 0.60193213, 0.63508205,\n",
       "        0.66823197, 0.70138189, 0.73453181, 0.76768174, 0.80083166,\n",
       "        0.83398158, 0.8671315 , 0.90028142, 0.93343134, 0.96658127,\n",
       "        0.99973119]),\n",
       " [<matplotlib.patches.Polygon at 0x7f1c991374c0>])"
      ]
     },
     "execution_count": 26,
     "metadata": {},
     "output_type": "execute_result"
    },
    {
     "data": {
      "image/png": "[encoded data removed]",
      "text/plain": [
       "<Figure size 432x288 with 1 Axes>"
      ]
     },
     "metadata": {
      "needs_background": "light"
     },
     "output_type": "display_data"
    }
   ],
   "source": [
    "plt.hist(events[:300]%1,bins=30,histtype='step')"
   ]
  },
  {
   "cell_type": "code",
   "execution_count": 27,
   "metadata": {},
   "outputs": [
    {
     "name": "stdout",
     "output_type": "stream",
     "text": [
      "Bounds: [-3.14159265 -0.3         0.        ] [3.14159265 0.3        2.        ]\n",
      "Starting chain...\n",
      "Still burning in, weight too large\n",
      "35\n",
      "Still burning in, weight too large\n",
      "58\n",
      "Still burning in, weight too large\n",
      "104\n",
      "Still burning in, weight too large\n",
      "125\n",
      "Still burning in, weight too large\n",
      "38\n",
      "Still burning in, weight too large\n",
      "35\n",
      "Still burning in, weight too large\n",
      "355\n",
      "Still burning in, weight too large\n",
      "212\n",
      "Still burning in, weight too large\n",
      "213\n",
      "Still burning in, weight too large\n",
      "132\n",
      "Still burning in, weight too large\n",
      "112\n",
      "Still burning in, weight too large\n",
      "33\n",
      "Still burning in, weight too large\n",
      "75\n",
      "Still burning in, weight too large\n",
      "131\n",
      "Still burning in, weight too large\n",
      "38\n",
      "Still burning in, weight too large\n",
      "55\n",
      "Still burning in, weight too large\n",
      "51\n",
      "Still burning in, weight too large\n",
      "41\n",
      "Still burning in, weight too large\n",
      "41\n",
      "Still burning in, weight too large\n",
      "38\n",
      "Still burning in, weight too large\n",
      "34\n",
      "Still burning in, weight too large\n",
      "78\n",
      "Still burning in, weight too large\n",
      "33\n",
      "Still burning in, weight too large\n",
      "32\n",
      "Still burning in, weight too large\n",
      "40\n",
      "Still burning in, weight too large\n",
      "41\n",
      "Still burning in, weight too large\n",
      "52\n",
      "Still burning in, weight too large\n",
      "63\n",
      "Still burning in, weight too large\n",
      "68\n",
      "Still burning in, weight too large\n",
      "47\n",
      "Still burning in, weight too large\n",
      "34\n",
      "Still burning in, weight too large\n",
      "41\n",
      "Still burning in, weight too large\n",
      "49\n",
      "Still burning in, weight too large\n",
      "33\n",
      "Still burning in, weight too large\n",
      "40\n",
      "Still burning in, weight too large\n",
      "45\n",
      "Still burning in, weight too large\n",
      "38\n",
      "Still burning in, weight too large\n",
      "33\n",
      "Still burning in, weight too large\n",
      "45\n",
      "Still burning in, weight too large\n",
      "31\n",
      "Accepted samples 1000 1\n",
      "Still burning in, weight too large\n",
      "38\n",
      "Still burning in, weight too large\n",
      "34\n",
      "Still burning in, weight too large\n",
      "51\n",
      "Accepted samples 2000 5\n",
      "Still burning in, weight too large\n",
      "31\n",
      "Accepted samples 3000 2\n",
      "Still burning in, weight too large\n",
      "31\n",
      "Accepted samples 4000 9\n",
      "Still burning in, weight too large\n",
      "32\n",
      "Accepted samples 5000 2\n",
      "Re-initializing covariance matrix after burn-in\n",
      "[[ 3.98427813e-03 -4.28695849e-06  5.64424145e-05]\n",
      " [-4.28695849e-06  6.20320915e-06  4.56963431e-06]\n",
      " [ 5.64424145e-05  4.56963431e-06  2.46276223e-05]]\n",
      "phi -0.5628176526276121 0.06312113852146284\n",
      "dfreq -0.013952766943374242 0.0024906242487448514\n",
      "V 0.25663280155264184 0.004962622525574409\n",
      "New maxloglike 4.022230745521447\n",
      "New maxloglike 4.200726629060844\n",
      "New maxloglike 4.744358588439686\n",
      "New maxloglike 5.14405309604013\n",
      "New maxloglike 5.213208741048671\n",
      "New maxloglike 5.221898438878746\n",
      "New maxloglike 5.7281762685327395\n",
      "Accepted samples 6000 2\n",
      "Accepted samples 7000 3\n",
      "Accepted samples 8000 2\n",
      "Accepted samples 9000 1\n",
      "Accepted samples 10000 1\n",
      "Accepted samples 11000 1\n",
      "Accepted samples 12000 1\n",
      "Accepted samples 13000 6\n",
      "Accepted samples 14000 5\n",
      "New maxloglike 6.661974650977941\n",
      "New maxloglike 6.705172492855042\n",
      "New maxloglike 6.756773733064847\n",
      "Accepted samples 15000 3\n",
      "Accepted samples 16000 1\n",
      "Accepted samples 17000 1\n",
      "Accepted samples 18000 1\n",
      "Accepted samples 19000 1\n",
      "Accepted samples 20000 1\n",
      "Accepted samples 21000 1\n",
      "Accepted samples 22000 1\n",
      "Accepted samples 23000 1\n",
      "Accepted samples 24000 15\n",
      "Accepted samples 25000 1\n",
      "Accepted samples 26000 1\n",
      "Accepted samples 27000 1\n",
      "Accepted samples 28000 29\n",
      "Accepted samples 29000 1\n",
      "Accepted samples 30000 1\n"
     ]
    },
    {
     "data": {
      "text/plain": [
       "[<matplotlib.lines.Line2D at 0x7f1c99cce400>]"
      ]
     },
     "execution_count": 27,
     "metadata": {},
     "output_type": "execute_result"
    },
    {
     "data": {
      "image/png": "[encoded data removed]",
      "text/plain": [
       "<Figure size 432x288 with 1 Axes>"
      ]
     },
     "metadata": {
      "needs_background": "light"
     },
     "output_type": "display_data"
    }
   ],
   "source": [
    "Ls=ZhiLike(events[:300])\n",
    "os.system('rm chains/*small*')\n",
    "MCMCAnalyzer(Ls,\"chains/test_small\",temp=1, nsamp=30000)\n",
    "da=np.loadtxt('chains/test_small.txt')\n",
    "plt.plot(da[:,2],da[:,3],'b.')"
   ]
  },
  {
   "cell_type": "code",
   "execution_count": 33,
   "metadata": {},
   "outputs": [
    {
     "data": {
      "text/plain": [
       "[<matplotlib.lines.Line2D at 0x7f1c9a63ba30>]"
      ]
     },
     "execution_count": 33,
     "metadata": {},
     "output_type": "execute_result"
    },
    {
     "data": {
      "image/png": "[encoded data removed]",
      "text/plain": [
       "<Figure size 432x288 with 1 Axes>"
      ]
     },
     "metadata": {
      "needs_background": "light"
     },
     "output_type": "display_data"
    }
   ],
   "source": [
    "plt.plot(da[5000:,4],da[5000:,1],'b.')"
   ]
  },
  {
   "cell_type": "code",
   "execution_count": null,
   "metadata": {},
   "outputs": [],
   "source": []
  }
 ],
 "metadata": {
  "kernelspec": {
   "display_name": "Python 3",
   "language": "python",
   "name": "python3"
  },
  "language_info": {
   "codemirror_mode": {
    "name": "ipython",
    "version": 3
   },
   "file_extension": ".py",
   "mimetype": "text/x-python",
   "name": "python",
   "nbconvert_exporter": "python",
   "pygments_lexer": "ipython3",
   "version": "3.8.5"
  }
 },
 "nbformat": 4,
 "nbformat_minor": 4
}
