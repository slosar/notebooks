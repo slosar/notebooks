{
 "cells": [
  {
   "cell_type": "code",
   "execution_count": 1,
   "id": "15adbd08",
   "metadata": {},
   "outputs": [],
   "source": [
    "import numpy as np\n",
    "import scipy.linalg as la"
   ]
  },
  {
   "cell_type": "code",
   "execution_count": 2,
   "id": "5301cd90",
   "metadata": {},
   "outputs": [],
   "source": [
    "N=10000\n",
    "A = np.random.normal(10,2,N)\n",
    "ndx = np.random.normal(-2.5,0.2,N)\n",
    "x = np.arange(1,50)\n",
    "data = A[:,None]*(x[None,:]/10)**ndx[:,None]\n"
   ]
  },
  {
   "cell_type": "code",
   "execution_count": 3,
   "id": "a43558a0",
   "metadata": {},
   "outputs": [],
   "source": [
    "cov = np.cov(data,rowvar=False)\n",
    "eva,eve = la.eig(cov)\n",
    "lcov = np.cov(np.log(data),rowvar=False)\n",
    "leva,leve = la.eig(lcov)"
   ]
  },
  {
   "cell_type": "code",
   "execution_count": 4,
   "id": "3005dcce",
   "metadata": {},
   "outputs": [
    {
     "name": "stderr",
     "output_type": "stream",
     "text": [
      "/opt/conda/lib/python3.9/site-packages/matplotlib/cbook/__init__.py:1333: ComplexWarning: Casting complex values to real discards the imaginary part\n",
      "  return np.asarray(x, float)\n",
      "/opt/conda/lib/python3.9/site-packages/matplotlib/cbook/__init__.py:1333: ComplexWarning: Casting complex values to real discards the imaginary part\n",
      "  return np.asarray(x, float)\n"
     ]
    },
    {
     "data": {
      "text/plain": [
       "[]"
      ]
     },
     "execution_count": 4,
     "metadata": {},
     "output_type": "execute_result"
    },
    {
     "data": {
      "image/png": "[encoded data removed]",
      "text/plain": [
       "<Figure size 432x288 with 1 Axes>"
      ]
     },
     "metadata": {
      "needs_background": "light"
     },
     "output_type": "display_data"
    }
   ],
   "source": [
    "plt.plot(eva/eva[0],'bo-')\n",
    "plt.plot(sorted(leva,reverse=True)/leva.max(),'ro-')\n",
    "plt.semilogy()"
   ]
  },
  {
   "cell_type": "code",
   "execution_count": 5,
   "id": "e752443a",
   "metadata": {},
   "outputs": [
    {
     "data": {
      "text/plain": [
       "array([ 3,  4,  7, 10,  9, 18, 14, 13, 20, 19, 25, 29, 28, 30, 32, 31, 34,\n",
       "       36, 35, 41, 40,  0, 43, 42, 48, 47, 46, 45, 44, 39, 38, 37, 33, 27,\n",
       "       26, 24, 23, 22, 21, 17, 16, 15, 12, 11,  8,  6,  5,  1,  2])"
      ]
     },
     "execution_count": 5,
     "metadata": {},
     "output_type": "execute_result"
    }
   ],
   "source": [
    "np.argsort(leva)"
   ]
  },
  {
   "cell_type": "code",
   "execution_count": 6,
   "id": "53e6a986",
   "metadata": {},
   "outputs": [],
   "source": [
    "fleve = np.real(leve[:,1:3]).T\n",
    "feve = np.real(eve[:,0:5]).T"
   ]
  },
  {
   "cell_type": "code",
   "execution_count": 7,
   "id": "5b51cae6",
   "metadata": {},
   "outputs": [],
   "source": [
    "def project_out(data, vecs):\n",
    "    odata = np.copy(data)\n",
    "    for v in vecs:\n",
    "        coef = np.sum(odata*v[None,:],axis=1)/np.dot(v,v)\n",
    "        odata -= coef[:,None]*v[None,:]\n",
    "    return odata\n",
    "\n",
    "def project_out_log(data, vecs):\n",
    "    ldata= np.log(data)\n",
    "    topr = np.zeros_like(data)\n",
    "    for v in vecs:\n",
    "        coef = np.sum(ldata*v[None,:],axis=1)/np.dot(v,v)\n",
    "        topr +=  coef[:,None]*v[None,:]\n",
    "    return data-np.exp(topr)"
   ]
  },
  {
   "cell_type": "code",
   "execution_count": 8,
   "id": "00971a51",
   "metadata": {},
   "outputs": [],
   "source": [
    "linp_data = project_out(data,feve)\n",
    "logp_data = project_out_log(data,fleve)"
   ]
  },
  {
   "cell_type": "code",
   "execution_count": 9,
   "id": "c9c48c34",
   "metadata": {},
   "outputs": [
    {
     "data": {
      "text/plain": [
       "[<matplotlib.lines.Line2D at 0x7fa0f2d95eb0>]"
      ]
     },
     "execution_count": 9,
     "metadata": {},
     "output_type": "execute_result"
    },
    {
     "data": {
      "image/png": "[encoded data removed]",
      "text/plain": [
       "<Figure size 432x288 with 1 Axes>"
      ]
     },
     "metadata": {
      "needs_background": "light"
     },
     "output_type": "display_data"
    }
   ],
   "source": [
    "plt.plot(linp_data.mean(axis=0))\n",
    "plt.plot(logp_data.mean(axis=0))\n"
   ]
  },
  {
   "cell_type": "code",
   "execution_count": null,
   "id": "a1321660",
   "metadata": {},
   "outputs": [],
   "source": []
  }
 ],
 "metadata": {
  "kernelspec": {
   "display_name": "Python 3 (ipykernel)",
   "language": "python",
   "name": "python3"
  },
  "language_info": {
   "codemirror_mode": {
    "name": "ipython",
    "version": 3
   },
   "file_extension": ".py",
   "mimetype": "text/x-python",
   "name": "python",
   "nbconvert_exporter": "python",
   "pygments_lexer": "ipython3",
   "version": "3.9.7"
  }
 },
 "nbformat": 4,
 "nbformat_minor": 5
}
