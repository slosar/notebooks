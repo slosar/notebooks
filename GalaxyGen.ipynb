{
 "cells": [
  {
   "cell_type": "code",
   "execution_count": 1,
   "metadata": {},
   "outputs": [
    {
     "name": "stderr",
     "output_type": "stream",
     "text": [
      "/opt/conda/lib/python3.8/site-packages/descwl_shear_sims/lsst_bits.py:33: UserWarning: the DM stack could not be imported to check the simulation bit mask flags\n",
      "  warnings.warn(\n"
     ]
    }
   ],
   "source": [
    "import matplotlib.pyplot as plt\n",
    "import numpy as np\n",
    "import descwl_shear_sims.sim\n",
    "import galsim\n",
    "from descwl_shear_sims.sim.galaxy_catalogs import (\n",
    "    WLDeblendGalaxyCatalog,\n",
    "    read_wldeblend_cat,\n",
    "    get_shifts, \n",
    ")\n",
    "from descwl_shear_sims.sim import (\n",
    "    FixedGalaxyCatalog,  # one of the galaxy catalog classes\n",
    "    make_sim,  # for making a simulation realization\n",
    "    make_psf,  # for making a simple PSF\n",
    "    make_ps_psf\n",
    ")\n"
   ]
  },
  {
   "cell_type": "code",
   "execution_count": 2,
   "metadata": {},
   "outputs": [],
   "source": [
    "class NumberedGalaxyCatalog(WLDeblendGalaxyCatalog):\n",
    "    \"\"\"\n",
    "    generate a specific number of galaxies\n",
    "    \"\"\"\n",
    "    def __init__(self, *, rng, coadd_dim, buff, ngal):\n",
    "        self.gal_type = 'wldeblend'\n",
    "        self.rng = rng\n",
    "\n",
    "        self._wldeblend_cat = read_wldeblend_cat(rng)\n",
    "\n",
    "        self.shifts = get_shifts(\n",
    "            rng=rng,\n",
    "            coadd_dim=coadd_dim,\n",
    "            buff=buff,\n",
    "            layout=\"random\",\n",
    "            nobj=ngal,\n",
    "        )\n",
    "\n",
    "        num = self.shifts.size\n",
    "        self.indices = self.rng.randint(\n",
    "            0,\n",
    "            self._wldeblend_cat.size,\n",
    "            size=num,\n",
    "        )\n",
    "\n",
    "        self.angles = self.rng.uniform(low=0, high=360, size=num)\n",
    "\n",
    "        "
   ]
  },
  {
   "cell_type": "code",
   "execution_count": 3,
   "metadata": {},
   "outputs": [],
   "source": [
    "class GalaxyObs:\n",
    "    def __init__ (self, psf,data,data_true, data_xpsf, data_xipsf):\n",
    "        self.psf = psf\n",
    "        self.data = data\n",
    "        self.data_true = data_true\n",
    "        self.data_xpsf = data_xpsf\n",
    "        self.data_xipfs = data_xipsf\n",
    "\n",
    "\n",
    "    def bands(self):\n",
    "        return \"\".join(self.psf.keys())\n",
    "    \n",
    "    def plot_rgb(self, what):\n",
    "        if hasattr(what['g'],\"drawImage\"):\n",
    "            ### this is not working are images are not the same shape\n",
    "            print(what['g'].drawImage().array.shape,what['r'].drawImage().array.shape,what['i'].drawImage().array.shape)\n",
    "            toplot=np.array([what['g'].drawImage().array,\n",
    "                        what['r'].drawImage().array,\n",
    "                        what['i'].drawImage().array])\n",
    "            print(toplot.shape)\n",
    "        else:\n",
    "            toplot=np.array([what['g'].image.array,\n",
    "                        what['r'].image.array,\n",
    "                        what['i'].image.array])\n",
    "        print (toplot.shape)\n",
    "        plt.imshow(toplot.T,interpolation='nearest')"
   ]
  },
  {
   "cell_type": "code",
   "execution_count": 4,
   "metadata": {},
   "outputs": [],
   "source": [
    "def GenerateCatalog (Ng=10,dim=10, rng=np.random.RandomState(111), bands='gri', fwhm_true=0.4, fwhm_sigma=0.1):\n",
    "\n",
    "\n",
    "    psf0 = galsim.Gaussian(fwhm=fwhm_true)\n",
    "    randomPSF = lambda : galsim.Gaussian(fwhm=np.random.uniform(0.4,1.0)).shear(\n",
    "        g1=np.random.normal(0.0,fwhm_sigma),\n",
    "        g2=np.random.normal(0.0,fwhm_sigma))\n",
    "\n",
    "    outcat=[]\n",
    "    \n",
    "    for i in range(Ng):\n",
    "        cat = NumberedGalaxyCatalog(\n",
    "            rng=rng,\n",
    "            coadd_dim=dim,\n",
    "            buff=10,\n",
    "            ngal=1,\n",
    "        )\n",
    "        psf={}\n",
    "        psfi={}\n",
    "        data={}\n",
    "        data_true={}    \n",
    "\n",
    "        for band in bands:\n",
    "            psf[band] = randomPSF()\n",
    "            #psfi[band] = psf[band].drawImage()\n",
    "            data[band] = descwl_shear_sims.sim.make_sim(\n",
    "                rng=rng,\n",
    "                galaxy_catalog=cat,\n",
    "                coadd_dim=dim,\n",
    "                bands=[band],\n",
    "                g1=0.0,g2=0.0,\n",
    "                epochs_per_band=1,\n",
    "                noise_factor=1.0,\n",
    "                psf=psf[band],\n",
    "            )['band_data'][band][0]\n",
    "            data_true[band] = descwl_shear_sims.sim.make_sim(\n",
    "                rng=rng,\n",
    "                galaxy_catalog=cat,\n",
    "                coadd_dim=dim,\n",
    "                bands=[band],\n",
    "                g1=0,g2=0,\n",
    "                epochs_per_band=1,\n",
    "                noise_factor=0.0,\n",
    "                psf=psf0,\n",
    "            )['band_data'][band][0]\n",
    "        data_xpsf = None\n",
    "        data_xipsf = None\n",
    "        go = GalaxyObs(psf,data,data_true,data_xpsf, data_xipsf)\n",
    "        outcat.append(go)\n",
    "    return outcat\n"
   ]
  },
  {
   "cell_type": "code",
   "execution_count": 5,
   "metadata": {},
   "outputs": [
    {
     "name": "stderr",
     "output_type": "stream",
     "text": [
      "/opt/conda/lib/python3.8/site-packages/descwl_shear_sims/sim/sim.py:264: RuntimeWarning: divide by zero encountered in double_scalars\n",
      "  weight.array[:, :] = 1.0/noise**2\n"
     ]
    }
   ],
   "source": [
    "c = GenerateCatalog()"
   ]
  },
  {
   "cell_type": "code",
   "execution_count": 6,
   "metadata": {},
   "outputs": [
    {
     "name": "stderr",
     "output_type": "stream",
     "text": [
      "Clipping input data to the valid range for imshow with RGB data ([0..1] for floats or [0..255] for integers).\n",
      "Clipping input data to the valid range for imshow with RGB data ([0..1] for floats or [0..255] for integers).\n"
     ]
    },
    {
     "name": "stdout",
     "output_type": "stream",
     "text": [
      "(3, 35, 35)\n",
      "(3, 35, 35)\n"
     ]
    },
    {
     "data": {
      "text/plain": [
       "Text(0.5, 1.0, 'truth')"
      ]
     },
     "execution_count": 6,
     "metadata": {},
     "output_type": "execute_result"
    },
    {
     "data": {
      "image/png": "[encoded data removed]",
      "text/plain": [
       "<Figure size 432x288 with 1 Axes>"
      ]
     },
     "metadata": {
      "needs_background": "light"
     },
     "output_type": "display_data"
    },
    {
     "data": {
      "image/png": "[encoded data removed]",
      "text/plain": [
       "<Figure size 432x288 with 1 Axes>"
      ]
     },
     "metadata": {
      "needs_background": "light"
     },
     "output_type": "display_data"
    }
   ],
   "source": [
    "plt.figure()\n",
    "c[0].plot_rgb(c[4].data)\n",
    "plt.title('measured')\n",
    "plt.figure()\n",
    "c[0].plot_rgb(c[4].data_true)\n",
    "plt.title('truth')"
   ]
  },
  {
   "cell_type": "code",
   "execution_count": null,
   "metadata": {},
   "outputs": [],
   "source": []
  }
 ],
 "metadata": {
  "kernelspec": {
   "display_name": "Python 3",
   "language": "python",
   "name": "python3"
  },
  "language_info": {
   "codemirror_mode": {
    "name": "ipython",
    "version": 3
   },
   "file_extension": ".py",
   "mimetype": "text/x-python",
   "name": "python",
   "nbconvert_exporter": "python",
   "pygments_lexer": "ipython3",
   "version": "3.8.5"
  }
 },
 "nbformat": 4,
 "nbformat_minor": 4
}
